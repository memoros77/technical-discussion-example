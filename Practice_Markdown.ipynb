{
  "cells": [
    {
      "cell_type": "markdown",
      "metadata": {
        "id": "view-in-github",
        "colab_type": "text"
      },
      "source": [
        "<a href=\"https://colab.research.google.com/github/memoros77/technical-discussion-example/blob/main/Practice_Markdown.ipynb\" target=\"_parent\"><img src=\"https://colab.research.google.com/assets/colab-badge.svg\" alt=\"Open In Colab\"/></a>"
      ]
    },
    {
      "cell_type": "markdown",
      "metadata": {
        "id": "sGsU-Fz5yH3e"
      },
      "source": [
        "## Practice Markdown"
      ]
    },
    {
      "cell_type": "markdown",
      "metadata": {
        "id": "k2kZeg94yH3f"
      },
      "source": [
        "This notebook lets you experiment with producing repeatable technical documentation.  Use this notebook to do the following actions:\n",
        "\n",
        "* Create a code cell and print a Python Hello World statement:  `print(\"hello world\")`\n",
        "* Create a Markdown Cell and add a Title using `#` and then a statement using plain text.  You can looks at the source code for this cell to get an idea of how to use Markdown.\n",
        "* Take some ideas from the [Master Markdown Github Guide](https://guides.github.com/features/mastering-markdown/) and implement them here.\n",
        "* Download this notebook as a `.ipynb` file and check into a Github Project.  You can [see an example here](https://github.com/noahgift/duke-coursera-ccf-lab1/blob/main/Practice-Markdown.ipynb).\n",
        "* Open your notebook in Google Colab and save it into the same Github Project.  You can [see an example here](https://github.com/noahgift/duke-coursera-ccf-lab1/blob/main/Practice_Markdown_with_colab.ipynb).\n"
      ]
    },
    {
      "cell_type": "code",
      "execution_count": null,
      "metadata": {
        "id": "8J1j5DCnyH3g",
        "outputId": "72cb122b-9438-44af-8eb7-dccd4d42802a"
      },
      "outputs": [
        {
          "name": "stdout",
          "output_type": "stream",
          "text": [
            "hello world\n"
          ]
        }
      ],
      "source": [
        "def hello():\n",
        "    print(\"hello world\")\n",
        "hello()"
      ]
    },
    {
      "cell_type": "markdown",
      "metadata": {
        "id": "EqJm0W8dyH3i"
      },
      "source": [
        "#  Ejemplo de `#0969DA` Encabezados"
      ]
    },
    {
      "cell_type": "markdown",
      "metadata": {
        "id": "3ILvT_55yH3j"
      },
      "source": [
        "# The largest heading"
      ]
    },
    {
      "cell_type": "markdown",
      "metadata": {
        "id": "-q_VzWlzyH3j"
      },
      "source": [
        "# The largest heading\n",
        "## The second largest heading\n",
        "###### The smallest heading"
      ]
    },
    {
      "cell_type": "markdown",
      "metadata": {
        "id": "J631KJ_PyH3k"
      },
      "source": [
        "# Estilos de texto"
      ]
    },
    {
      "cell_type": "markdown",
      "metadata": {
        "id": "qgrn3wR4yH3k"
      },
      "source": [
        "**This is bold text**\n",
        "\n",
        "*This text is italicized*\n",
        "    \n",
        "~~This was mistaken text~~\n",
        "        \n",
        "**This text is _extremely_ important**\n",
        "            \n",
        "***All this text is important***\n",
        "                \n",
        "<sub>This is a subscript text</sub>\n",
        "\n",
        "<sup>This is a superscript text</sup>"
      ]
    },
    {
      "cell_type": "markdown",
      "metadata": {
        "id": "RPI7WFlVyH3l"
      },
      "source": [
        "# Estilos de texto"
      ]
    },
    {
      "cell_type": "markdown",
      "metadata": {
        "id": "wvsgJw6byH3l"
      },
      "source": [
        "Text that is not a quote\n",
        "\n",
        "> Text that is a quote"
      ]
    },
    {
      "cell_type": "markdown",
      "metadata": {
        "id": "e8FJEX_9yH3m"
      },
      "source": [
        "Use `git status` to list all new or modified files that haven't yet been committed."
      ]
    },
    {
      "cell_type": "markdown",
      "metadata": {
        "id": "-L-iu9b8yH3m"
      },
      "source": [
        "# Entrecomillado de texto"
      ]
    },
    {
      "cell_type": "markdown",
      "metadata": {
        "id": "74EJGNVryH3m"
      },
      "source": [
        "Some basic Git commands are:\n",
        "```\n",
        "git status\n",
        "git add\n",
        "git commit\n",
        "```"
      ]
    },
    {
      "cell_type": "markdown",
      "metadata": {
        "id": "BQdJwUBLyH3m"
      },
      "source": [
        "# Modelos de color compatibles"
      ]
    },
    {
      "cell_type": "markdown",
      "metadata": {
        "id": "GOy0m3oByH3n"
      },
      "source": [
        "The background color should be `#ffffff` for light mode and `#0d1117` for dark mode."
      ]
    },
    {
      "cell_type": "markdown",
      "metadata": {
        "id": "5LeCIVXWyH3n"
      },
      "source": [
        "# Código de cita"
      ]
    },
    {
      "cell_type": "markdown",
      "metadata": {
        "id": "yqYh6T4UyH3n"
      },
      "source": [
        "This site was built using [GitHub Pages](https://pages.github.com/)."
      ]
    },
    {
      "cell_type": "markdown",
      "metadata": {
        "id": "Jwv0UVkdyH3n"
      },
      "source": [
        "# Imágenes"
      ]
    },
    {
      "cell_type": "markdown",
      "metadata": {
        "id": "gaigfQM3yH3o"
      },
      "source": [
        "<picture>\n",
        "  <source media=\"(prefers-color-scheme: dark)\" srcset=\"https://user-images.githubusercontent.com/25423296/163456776-7f95b81a-f1ed-45f7-b7ab-8fa810d529fa.png\">\n",
        "  <source media=\"(prefers-color-scheme: light)\" srcset=\"https://user-images.githubusercontent.com/25423296/163456779-a8556205-d0a5-45e2-ac17-42d089e3c3f8.png\">\n",
        "  <img alt=\"Shows an illustrated sun in light mode and a moon with stars in dark mode.\" src=\"https://user-images.githubusercontent.com/25423296/163456779-a8556205-d0a5-45e2-ac17-42d089e3c3f8.png\">\n",
        "</picture>"
      ]
    },
    {
      "cell_type": "markdown",
      "metadata": {
        "id": "_IIwv_fByH3o"
      },
      "source": [
        "# LISTAS"
      ]
    },
    {
      "cell_type": "markdown",
      "metadata": {
        "id": "gxBuWUwSyH3o"
      },
      "source": [
        "- George Washington\n",
        "* John Adams\n",
        "+ Thomas Jefferson"
      ]
    },
    {
      "cell_type": "markdown",
      "metadata": {
        "id": "aX_nVtn3yH3p"
      },
      "source": [
        "1. James Madison\n",
        "2. James Monroe\n",
        "3. John Quincy Adams"
      ]
    },
    {
      "cell_type": "code",
      "execution_count": null,
      "metadata": {
        "id": "v_oaXi-XyH3p"
      },
      "outputs": [],
      "source": []
    }
  ],
  "metadata": {
    "kernelspec": {
      "display_name": "Python 3",
      "language": "python",
      "name": "python3"
    },
    "language_info": {
      "codemirror_mode": {
        "name": "ipython",
        "version": 3
      },
      "file_extension": ".py",
      "mimetype": "text/x-python",
      "name": "python",
      "nbconvert_exporter": "python",
      "pygments_lexer": "ipython3",
      "version": "3.7.6"
    },
    "colab": {
      "provenance": [],
      "include_colab_link": true
    }
  },
  "nbformat": 4,
  "nbformat_minor": 0
}